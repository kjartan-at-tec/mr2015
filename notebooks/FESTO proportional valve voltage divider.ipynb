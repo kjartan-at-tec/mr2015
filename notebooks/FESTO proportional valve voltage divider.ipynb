{
 "cells": [
  {
   "cell_type": "code",
   "execution_count": 10,
   "id": "edd1a799",
   "metadata": {},
   "outputs": [],
   "source": [
    "from sympy import *\n",
    "init_printing()"
   ]
  },
  {
   "cell_type": "code",
   "execution_count": 11,
   "id": "12191671",
   "metadata": {},
   "outputs": [],
   "source": [
    "x, y, R1, RL, a, b = symbols('x y R1 R_L a b')"
   ]
  },
  {
   "cell_type": "code",
   "execution_count": 12,
   "id": "77ae31a4",
   "metadata": {},
   "outputs": [],
   "source": [
    "R1L = 1/(1/R1 + 1/RL) # R1 and Rl in parallel\n",
    "xy_p = 1/(1/x + 1/y) # x and y in parallel"
   ]
  },
  {
   "cell_type": "code",
   "execution_count": 13,
   "id": "85677300",
   "metadata": {},
   "outputs": [],
   "source": [
    "eqs = [R1L/(R1L+x)-a, R1L/(R1L + xy_p) - b]\n"
   ]
  },
  {
   "cell_type": "code",
   "execution_count": 14,
   "id": "353d78ea",
   "metadata": {},
   "outputs": [
    {
     "data": {
      "image/png": "[encoded data removed]",
      "text/latex": [
       "$\\displaystyle \\left[ \\left( \\frac{R_{1} R_{L} \\left(1 - a\\right)}{a \\left(R_{1} + R_{L}\\right)}, \\  - \\frac{R_{1} R_{L} \\left(a - 1\\right) \\left(b - 1\\right)}{\\left(R_{1} + R_{L}\\right) \\left(a - b\\right)}\\right)\\right]$"
      ],
      "text/plain": [
       "⎡⎛R₁⋅R_L⋅(1 - a)  -R₁⋅R_L⋅(a - 1)⋅(b - 1) ⎞⎤\n",
       "⎢⎜──────────────, ────────────────────────⎟⎥\n",
       "⎣⎝ a⋅(R₁ + R_L)      (R₁ + R_L)⋅(a - b)   ⎠⎦"
      ]
     },
     "execution_count": 14,
     "metadata": {},
     "output_type": "execute_result"
    }
   ],
   "source": [
    "sol = solve(eqs, [x, y])\n",
    "sol"
   ]
  },
  {
   "cell_type": "code",
   "execution_count": 15,
   "id": "9bb43715",
   "metadata": {},
   "outputs": [],
   "source": [
    "Rx = sol[0][0]\n",
    "Ry = sol[0][1]"
   ]
  },
  {
   "cell_type": "code",
   "execution_count": 16,
   "id": "fc3a9330",
   "metadata": {},
   "outputs": [],
   "source": [
    "# Numerical values\n",
    "an = 0.4\n",
    "bn = 0.6\n",
    "RLn = 1e3\n",
    "R1n = 47 \n",
    "#bn = 0.7\n"
   ]
  },
  {
   "cell_type": "code",
   "execution_count": 17,
   "id": "6f8f4b37",
   "metadata": {},
   "outputs": [
    {
     "data": {
      "image/png": "[encoded data removed]",
      "text/latex": [
       "$\\displaystyle 67.3352435530086$"
      ],
      "text/plain": [
       "67.3352435530086"
      ]
     },
     "execution_count": 17,
     "metadata": {},
     "output_type": "execute_result"
    }
   ],
   "source": [
    "Rxn = Rx.subs(a, an).subs(b,bn).subs(RL, RLn).subs(R1, R1n)\n",
    "Rxn"
   ]
  },
  {
   "cell_type": "code",
   "execution_count": 18,
   "id": "7de1e116",
   "metadata": {},
   "outputs": [
    {
     "data": {
      "image/png": "[encoded data removed]",
      "text/latex": [
       "$\\displaystyle 53.8681948424069$"
      ],
      "text/plain": [
       "53.8681948424069"
      ]
     },
     "execution_count": 18,
     "metadata": {},
     "output_type": "execute_result"
    }
   ],
   "source": [
    "Ryn = Ry.subs(a, an).subs(b,bn).subs(RL, RLn).subs(R1, R1n)\n",
    "Ryn"
   ]
  },
  {
   "cell_type": "code",
   "execution_count": null,
   "id": "a7c15e2a",
   "metadata": {},
   "outputs": [],
   "source": []
  }
 ],
 "metadata": {
  "kernelspec": {
   "display_name": "Python 3 (ipykernel)",
   "language": "python",
   "name": "python3"
  },
  "language_info": {
   "codemirror_mode": {
    "name": "ipython",
    "version": 3
   },
   "file_extension": ".py",
   "mimetype": "text/x-python",
   "name": "python",
   "nbconvert_exporter": "python",
   "pygments_lexer": "ipython3",
   "version": "3.8.11"
  }
 },
 "nbformat": 4,
 "nbformat_minor": 5
}
